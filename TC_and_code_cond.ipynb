{
 "cells": [
  {
   "cell_type": "markdown",
   "metadata": {},
   "source": [
    "# Team work contract\n",
    "1.\tEach person has same amount of workload.\n",
    "2.\tEach member works at least 5 hours per week (excluding meeting time).\n",
    "3.\tMeet during the lab and after the lab on Wed. The real deadline is on Friday 6:00 PM.\n",
    "4.\tWe have meeting agendas and minutes. After discussion, each member takes the responsibility of the part they are good at and willing to do.\n",
    "5.\tStart each meeting with where the project stands and then proceed with how to address the rest of the work.\n",
    "6.\tFor writing no grammar mistake, proper length and meet other writing rubrics. For other contents, confirmed with other team members. \n",
    "7.\tAvoid texting 6:00pm – 8:00pm and 9:00pm afterward.\n",
    "8.\tPreference of work split:\n",
    "\n",
    "Huayue Lu: Data wrangling, visualization\n",
    "\n",
    "Manish Joshi: Writing textual material\n",
    "\n",
    "Victor: Data Wrangling, creative\n",
    "\n",
    "Note: preference will not be guaranteed. All matters are collectively owned.\n",
    "\n",
    "## Code of Conduct\n",
    "1.\tCivil behavior with respect for all members.\n",
    "2.\tBe critical but only in a constructive manner\n",
    "3.\tNo temper flares up, uncivil language will not be acceptable\n",
    "4.\tBe on time.\n",
    "5.\tDispute resolution shall be first tried out within the team and go to the instructor only after all agree.\n",
    "6.\tList of consequences for unacceptable behavior: \n",
    "\n",
    "    a) After one warning, the person will be reported to the teaching staffs.\n",
    "\n",
    "    b) Get the lowest rating in team project reflection\n"
   ]
  },
  {
   "cell_type": "code",
   "execution_count": null,
   "metadata": {},
   "outputs": [],
   "source": []
  }
 ],
 "metadata": {
  "kernelspec": {
   "display_name": "Python 3",
   "language": "python",
   "name": "python3"
  },
  "language_info": {
   "codemirror_mode": {
    "name": "ipython",
    "version": 3
   },
   "file_extension": ".py",
   "mimetype": "text/x-python",
   "name": "python",
   "nbconvert_exporter": "python",
   "pygments_lexer": "ipython3",
   "version": "3.7.5"
  }
 },
 "nbformat": 4,
 "nbformat_minor": 4
}
